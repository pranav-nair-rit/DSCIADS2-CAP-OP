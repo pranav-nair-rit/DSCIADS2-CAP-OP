{
 "cells": [
  {
   "cell_type": "code",
   "execution_count": 3,
   "id": "1d2ceaf2",
   "metadata": {},
   "outputs": [],
   "source": [
    "import pandas as pd"
   ]
  },
  {
   "cell_type": "markdown",
   "id": "6be1dfc1",
   "metadata": {},
   "source": [
    "#### Taking 4 hand annotated datastsets"
   ]
  },
  {
   "cell_type": "code",
   "execution_count": 4,
   "id": "4bcbc6f7",
   "metadata": {},
   "outputs": [],
   "source": [
    "model = pd.read_excel('All_Data/model.xlsx', index_col=None)\n",
    "feature = pd.read_excel('All_Data/feature.xlsx')\n",
    "train = pd.read_excel('All_Data/train.xlsx')\n",
    "encoding = pd.read_excel('All_Data/encoding.xlsx')"
   ]
  },
  {
   "cell_type": "code",
   "execution_count": 5,
   "id": "2eeeac49",
   "metadata": {},
   "outputs": [],
   "source": [
    "df = pd.concat([model[['Comment', 'MLTD']], feature[['Comment', 'MLTD']], train[['Comment', 'MLTD']], encoding[['Comment', 'MLTD']]], axis=0)"
   ]
  },
  {
   "cell_type": "code",
   "execution_count": 6,
   "id": "41356863",
   "metadata": {},
   "outputs": [
    {
     "data": {
      "text/plain": [
       "Yes    1207\n",
       "No      313\n",
       "Name: MLTD, dtype: int64"
      ]
     },
     "execution_count": 6,
     "metadata": {},
     "output_type": "execute_result"
    }
   ],
   "source": [
    "df['MLTD'].value_counts()"
   ]
  },
  {
   "cell_type": "markdown",
   "id": "86984fca",
   "metadata": {},
   "source": [
    "#### Dropping duplcate values"
   ]
  },
  {
   "cell_type": "code",
   "execution_count": 7,
   "id": "6edf5c89",
   "metadata": {},
   "outputs": [],
   "source": [
    "df = df.drop_duplicates()"
   ]
  },
  {
   "cell_type": "code",
   "execution_count": 8,
   "id": "8a69e2a7",
   "metadata": {},
   "outputs": [
    {
     "data": {
      "text/html": [
       "<div>\n",
       "<style scoped>\n",
       "    .dataframe tbody tr th:only-of-type {\n",
       "        vertical-align: middle;\n",
       "    }\n",
       "\n",
       "    .dataframe tbody tr th {\n",
       "        vertical-align: top;\n",
       "    }\n",
       "\n",
       "    .dataframe thead th {\n",
       "        text-align: right;\n",
       "    }\n",
       "</style>\n",
       "<table border=\"1\" class=\"dataframe\">\n",
       "  <thead>\n",
       "    <tr style=\"text-align: right;\">\n",
       "      <th></th>\n",
       "      <th>Comment</th>\n",
       "      <th>MLTD</th>\n",
       "    </tr>\n",
       "  </thead>\n",
       "  <tbody>\n",
       "    <tr>\n",
       "      <th>0</th>\n",
       "      <td>TODO cont feat names no longer required only n...</td>\n",
       "      <td>Yes</td>\n",
       "    </tr>\n",
       "    <tr>\n",
       "      <th>1</th>\n",
       "      <td>TODO: check whether model_builder is necessary...</td>\n",
       "      <td>No</td>\n",
       "    </tr>\n",
       "    <tr>\n",
       "      <th>2</th>\n",
       "      <td>TODO model.default_collection only in BaseMode...</td>\n",
       "      <td>No</td>\n",
       "    </tr>\n",
       "    <tr>\n",
       "      <th>3</th>\n",
       "      <td>TODO Lida Xu please re-write the CNN model</td>\n",
       "      <td>Yes</td>\n",
       "    </tr>\n",
       "    <tr>\n",
       "      <th>4</th>\n",
       "      <td>\\\"\\\"\\\" || TODO: This test fails due to the ran...</td>\n",
       "      <td>Yes</td>\n",
       "    </tr>\n",
       "    <tr>\n",
       "      <th>...</th>\n",
       "      <td>...</td>\n",
       "      <td>...</td>\n",
       "    </tr>\n",
       "    <tr>\n",
       "      <th>39</th>\n",
       "      <td>TODO: remove label encoding when class bug is ...</td>\n",
       "      <td>Yes</td>\n",
       "    </tr>\n",
       "    <tr>\n",
       "      <th>44</th>\n",
       "      <td>TODO: Check if weight is tied to encoding embe...</td>\n",
       "      <td>Yes</td>\n",
       "    </tr>\n",
       "    <tr>\n",
       "      <th>45</th>\n",
       "      <td>TODO: use `tokenize.detect_encoding`</td>\n",
       "      <td>Yes</td>\n",
       "    </tr>\n",
       "    <tr>\n",
       "      <th>46</th>\n",
       "      <td>TODO don't like that: encoding after each event</td>\n",
       "      <td>Yes</td>\n",
       "    </tr>\n",
       "    <tr>\n",
       "      <th>47</th>\n",
       "      <td>TODO might not work with label_featurizer enco...</td>\n",
       "      <td>Yes</td>\n",
       "    </tr>\n",
       "  </tbody>\n",
       "</table>\n",
       "<p>1103 rows × 2 columns</p>\n",
       "</div>"
      ],
      "text/plain": [
       "                                              Comment MLTD\n",
       "0   TODO cont feat names no longer required only n...  Yes\n",
       "1   TODO: check whether model_builder is necessary...   No\n",
       "2   TODO model.default_collection only in BaseMode...   No\n",
       "3          TODO Lida Xu please re-write the CNN model  Yes\n",
       "4   \\\"\\\"\\\" || TODO: This test fails due to the ran...  Yes\n",
       "..                                                ...  ...\n",
       "39  TODO: remove label encoding when class bug is ...  Yes\n",
       "44  TODO: Check if weight is tied to encoding embe...  Yes\n",
       "45               TODO: use `tokenize.detect_encoding`  Yes\n",
       "46    TODO don't like that: encoding after each event  Yes\n",
       "47  TODO might not work with label_featurizer enco...  Yes\n",
       "\n",
       "[1103 rows x 2 columns]"
      ]
     },
     "execution_count": 8,
     "metadata": {},
     "output_type": "execute_result"
    }
   ],
   "source": [
    "df"
   ]
  },
  {
   "cell_type": "markdown",
   "id": "a3bfdad7",
   "metadata": {},
   "source": [
    "#### Escaping unicode characters"
   ]
  },
  {
   "cell_type": "code",
   "execution_count": 9,
   "id": "518ad0bf",
   "metadata": {},
   "outputs": [
    {
     "name": "stderr",
     "output_type": "stream",
     "text": [
      "/var/folders/3q/dw048hjx6d775m1t6pn8lf5h0000gs/T/ipykernel_49202/4191709658.py:1: DeprecationWarning: invalid escape sequence '\\/'\n",
      "  df['Comment'] = df['Comment'].apply(lambda x:x.encode('ascii').decode('unicode_escape'))\n"
     ]
    }
   ],
   "source": [
    "df['Comment'] = df['Comment'].apply(lambda x:x.encode('ascii').decode('unicode_escape'))"
   ]
  },
  {
   "cell_type": "code",
   "execution_count": 10,
   "id": "424e41ce",
   "metadata": {},
   "outputs": [
    {
     "data": {
      "text/html": [
       "<div>\n",
       "<style scoped>\n",
       "    .dataframe tbody tr th:only-of-type {\n",
       "        vertical-align: middle;\n",
       "    }\n",
       "\n",
       "    .dataframe tbody tr th {\n",
       "        vertical-align: top;\n",
       "    }\n",
       "\n",
       "    .dataframe thead th {\n",
       "        text-align: right;\n",
       "    }\n",
       "</style>\n",
       "<table border=\"1\" class=\"dataframe\">\n",
       "  <thead>\n",
       "    <tr style=\"text-align: right;\">\n",
       "      <th></th>\n",
       "      <th>Comment</th>\n",
       "      <th>MLTD</th>\n",
       "    </tr>\n",
       "  </thead>\n",
       "  <tbody>\n",
       "    <tr>\n",
       "      <th>0</th>\n",
       "      <td>TODO cont feat names no longer required only n...</td>\n",
       "      <td>Yes</td>\n",
       "    </tr>\n",
       "    <tr>\n",
       "      <th>1</th>\n",
       "      <td>TODO: check whether model_builder is necessary...</td>\n",
       "      <td>No</td>\n",
       "    </tr>\n",
       "    <tr>\n",
       "      <th>2</th>\n",
       "      <td>TODO model.default_collection only in BaseMode...</td>\n",
       "      <td>No</td>\n",
       "    </tr>\n",
       "    <tr>\n",
       "      <th>3</th>\n",
       "      <td>TODO Lida Xu please re-write the CNN model</td>\n",
       "      <td>Yes</td>\n",
       "    </tr>\n",
       "    <tr>\n",
       "      <th>4</th>\n",
       "      <td>\"\"\" || TODO: This test fails due to the random...</td>\n",
       "      <td>Yes</td>\n",
       "    </tr>\n",
       "  </tbody>\n",
       "</table>\n",
       "</div>"
      ],
      "text/plain": [
       "                                             Comment MLTD\n",
       "0  TODO cont feat names no longer required only n...  Yes\n",
       "1  TODO: check whether model_builder is necessary...   No\n",
       "2  TODO model.default_collection only in BaseMode...   No\n",
       "3         TODO Lida Xu please re-write the CNN model  Yes\n",
       "4  \"\"\" || TODO: This test fails due to the random...  Yes"
      ]
     },
     "execution_count": 10,
     "metadata": {},
     "output_type": "execute_result"
    }
   ],
   "source": [
    "df.head()"
   ]
  },
  {
   "cell_type": "markdown",
   "id": "a6f5a435",
   "metadata": {},
   "source": [
    "#### Loading a transformer model into the spaCy pipeline"
   ]
  },
  {
   "cell_type": "code",
   "execution_count": 43,
   "id": "79dbfabc",
   "metadata": {},
   "outputs": [],
   "source": [
    "from spacy.training.example import Example\n",
    "from spacy.util import minibatch\n",
    "import random"
   ]
  },
  {
   "cell_type": "code",
   "execution_count": 44,
   "id": "c7f6422e",
   "metadata": {},
   "outputs": [
    {
     "data": {
      "text/plain": [
       "1"
      ]
     },
     "execution_count": 44,
     "metadata": {},
     "output_type": "execute_result"
    }
   ],
   "source": [
    "import spacy\n",
    "nlp = spacy.blank('en')\n",
    "\n",
    "config = {\n",
    "    \"model\" : {\n",
    "        \"@architectures\": \"spacy-transformers.TransformerModel.v3\",\n",
    "        \"name\": \"microsoft/codebert-base\"\n",
    "    }\n",
    "}\n",
    "\n",
    "# nlp.add_pipe(\"transformer\", config = config)\n",
    "textcat = nlp.add_pipe(\"textcat\", last=True)\n",
    "textcat.add_label(\"Yes\")\n",
    "textcat.add_label(\"No\")"
   ]
  },
  {
   "cell_type": "code",
   "execution_count": 45,
   "id": "714db297",
   "metadata": {},
   "outputs": [],
   "source": [
    "train_data = []\n",
    "\n",
    "for idx, row in df.iterrows():\n",
    "    labels = {\"Yes\":False, \"No\":False}\n",
    "    if row['MLTD'] == \"Yes\":\n",
    "        labels['Yes'] = True\n",
    "    else:\n",
    "        labels['No'] = True\n",
    "    tup = (row['Comment'], {\"cats\":labels})\n",
    "    train_data.append(tup)"
   ]
  },
  {
   "cell_type": "code",
   "execution_count": 46,
   "id": "f42c5273",
   "metadata": {},
   "outputs": [],
   "source": [
    "train_examples = []\n",
    "\n",
    "for text, annotations in train_data[:200]:\n",
    "    train_examples.append(Example.from_dict(nlp.make_doc(text), annotations))"
   ]
  },
  {
   "cell_type": "code",
   "execution_count": null,
   "id": "d1a9bf7e",
   "metadata": {},
   "outputs": [],
   "source": []
  },
  {
   "cell_type": "code",
   "execution_count": 47,
   "id": "4985c2fe",
   "metadata": {},
   "outputs": [
    {
     "data": {
      "text/plain": [
       "<thinc.optimizers.Optimizer at 0x7f78f29447c0>"
      ]
     },
     "execution_count": 47,
     "metadata": {},
     "output_type": "execute_result"
    }
   ],
   "source": [
    "# Train the model\n",
    "nlp.initialize()"
   ]
  },
  {
   "cell_type": "code",
   "execution_count": 48,
   "id": "4bb5445a",
   "metadata": {},
   "outputs": [
    {
     "name": "stdout",
     "output_type": "stream",
     "text": [
      "{'textcat': 4.565066196024418}\n",
      "{'textcat': 3.3305786291603}\n",
      "{'textcat': 3.2697595632635057}\n",
      "{'textcat': 3.226115185767412}\n",
      "{'textcat': 3.180007532937452}\n",
      "{'textcat': 3.099624315276742}\n",
      "{'textcat': 2.9841340337879956}\n",
      "{'textcat': 2.9971739314496517}\n",
      "{'textcat': 2.4882253310643137}\n",
      "{'textcat': 2.753918915288523}\n",
      "{'textcat': 2.503231597424019}\n",
      "{'textcat': 2.3171451425587293}\n",
      "{'textcat': 2.0215828239452094}\n",
      "{'textcat': 1.8175035582389683}\n",
      "{'textcat': 1.7241439405770507}\n",
      "{'textcat': 1.3627582510307548}\n",
      "{'textcat': 1.251774375410605}\n",
      "{'textcat': 1.3541165466576786}\n",
      "{'textcat': 0.8423196174865097}\n",
      "{'textcat': 1.1964323555948795}\n"
     ]
    }
   ],
   "source": [
    "for i in range(20): # Number of training iterations\n",
    "    random.shuffle(train_examples)\n",
    "    losses = {}\n",
    "    for batch in minibatch(train_examples, size=8): # Batch size\n",
    "        nlp.update(batch, drop=0.5, losses=losses) # Dropout rate\n",
    "    print(losses)"
   ]
  },
  {
   "cell_type": "markdown",
   "id": "bb3ab0b6",
   "metadata": {},
   "source": [
    "#### Checking the accuracy on the test dataset"
   ]
  },
  {
   "cell_type": "code",
   "execution_count": null,
   "id": "ad971dfc",
   "metadata": {},
   "outputs": [],
   "source": []
  },
  {
   "cell_type": "code",
   "execution_count": null,
   "id": "6c9a0ca7",
   "metadata": {},
   "outputs": [],
   "source": []
  },
  {
   "cell_type": "code",
   "execution_count": null,
   "id": "bc1dd2e5",
   "metadata": {},
   "outputs": [],
   "source": []
  },
  {
   "cell_type": "code",
   "execution_count": null,
   "id": "d0837f14",
   "metadata": {},
   "outputs": [],
   "source": []
  },
  {
   "cell_type": "code",
   "execution_count": null,
   "id": "60c1b31a",
   "metadata": {},
   "outputs": [],
   "source": []
  },
  {
   "cell_type": "code",
   "execution_count": null,
   "id": "3d60efde",
   "metadata": {},
   "outputs": [],
   "source": []
  },
  {
   "cell_type": "code",
   "execution_count": null,
   "id": "6c5c937a",
   "metadata": {},
   "outputs": [],
   "source": []
  },
  {
   "cell_type": "code",
   "execution_count": null,
   "id": "91fac34c",
   "metadata": {},
   "outputs": [],
   "source": []
  },
  {
   "cell_type": "code",
   "execution_count": null,
   "id": "e5861e8b",
   "metadata": {},
   "outputs": [],
   "source": []
  }
 ],
 "metadata": {
  "kernelspec": {
   "display_name": "Python 3 (ipykernel)",
   "language": "python",
   "name": "python3"
  },
  "language_info": {
   "codemirror_mode": {
    "name": "ipython",
    "version": 3
   },
   "file_extension": ".py",
   "mimetype": "text/x-python",
   "name": "python",
   "nbconvert_exporter": "python",
   "pygments_lexer": "ipython3",
   "version": "3.10.9"
  }
 },
 "nbformat": 4,
 "nbformat_minor": 5
}
