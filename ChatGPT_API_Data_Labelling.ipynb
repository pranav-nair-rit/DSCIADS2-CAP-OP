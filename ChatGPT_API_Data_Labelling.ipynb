{
 "cells": [
  {
   "cell_type": "code",
   "execution_count": 17,
   "id": "50178a50-30b8-4e26-9d3f-92a505090e56",
   "metadata": {},
   "outputs": [
    {
     "name": "stdout",
     "output_type": "stream",
     "text": [
      "assistant: I need assistance booking a flight ticket.\n",
      "\n"
     ]
    },
    {
     "name": "stdin",
     "output_type": "stream",
     "text": [
      "User:  how many countries are there?\n"
     ]
    },
    {
     "name": "stdout",
     "output_type": "stream",
     "text": [
      "\n",
      "assistant: As of 2021, there are 195 recognized sovereign states in the world, including 193 United Nations member states and 2 observer states (the Holy See and Palestine).\n",
      "\n"
     ]
    },
    {
     "name": "stdin",
     "output_type": "stream",
     "text": [
      "User:  Hey, you shall behave as a machine learning algorithm capable of predicting whether a given piece of input text represents a Technical Debt in a python program. Here are some examples that you can take for your reference: Input Text:  TODO: move this to corpus module Type of Technical Debt:  Design  Input Text:  TODO rename sizes to size? Type of Technical Debt:  Code  Input Text:  todo try: \\\" \\\".join(foo.split()) Type of Technical Debt:  Code  Input Text:  TODO: x;y input should be able to be np arrays; pandas arrays; or tf dataset iterators Type of Technical Debt:  Design  Input Text:  TODO replace with pad when implemented Type of Technical Debt:  Requirement  Input Text:  TODO add general Distribution Type of Technical Debt:  Requirement  Input Text:  needed due to apparent bug in glob2 - removes duplicate entries Type of Technical Debt:  Defect  Input Text:  A future enhancement TODO for running on multiple GPU: CUDA_VISIBLE_DEVICES=2;3 python main.py   and then also model = torch.nn.DataParallel(model; device_ids=[0;1]).cuda() Type of Technical Debt:  Requirement  Input Text:  TODO: batch might have different sequence lengths Type of Technical Debt:  M&T  Input Text:  TODO change out existing code for better code below Type of Technical Debt:  Code  Input Text:  tf.train.ProximalAdagradOptimizer todo appears tf.keras.optimizers does not support Type of Technical Debt:  Defect  Input Text:  XXX Can't do this simultaneously in multiple threads.  Need Type of Technical Debt:  Requirement  Input Text:  fixed expressions like \\\"aujourd'hui\\\". TODO! extend list of allowed compounds Type of Technical Debt:  Requirement  Input Text:  TODO: This method pulls in all the implementation dependencies into Type of Technical Debt:  Design  Input Text:  HTTP Utilities and MISC (TODO) ############################################### Type of Technical Debt:  Requirement  Input Text:  workaround for reducelronplateau Type of Technical Debt:  Defect  Input Text:  TODO: message about vector lengths? Type of Technical Debt:  Requirement  Input Text:  TODO: move into __init__() when all marshalling classes will be moved into Type of Technical Debt:  Design  Input Text:  TODO: quasi; quasibinomial; quasipoisson Type of Technical Debt:  Requirement  Input Text:  TODO: do some evaluation. Type of Technical Debt:  M&T  Input Text:    Type of Technical Debt:  Requirement Based on the above examples, can you predict whether the below texts are Technical Debts or not and which type of Technical debt it is?\n"
     ]
    },
    {
     "name": "stdout",
     "output_type": "stream",
     "text": [
      "\n",
      "assistant: Sure, I'll try to classify the type of technical debt based on the patterns presented in your examples. However, remember that real predictions would need a machine learning model and a significant amount of training data.\n",
      "\n",
      "1. Input Text: \"TODO: Refactor the database access layer\"\n",
      "Based on your examples, this sounds like Design Technical Debt, as it involves improving the structure of the code.\n",
      "\n",
      "2. Input Text: \"FIXME: the login feature doesn't work when passwords contain special characters\"\n",
      "This one seems like Defect Technical Debt. A bug in the system is causing an existing feature not to work properly. \n",
      "\n",
      "3. Input Text: \"TODO: Implement caching for faster page load times\"\n",
      "This seems like a Requirement Technical Debt. It's a new desired feature that needs to be added to the system.\n",
      "\n",
      "4. Input Text: \"FIXME: application crashes under heavy load\"\n",
      "This would be considered Defect Technical Debt as it refers to a problem in the system that is causing it to crash.\n",
      "\n",
      "5. Input Text: \"TODO: Use a third-party library for parsing JSON instead of the current in-house solution\"\n",
      "I would classify this as Code Technical Debt, as it requires a change in actual existing lines of code.\n",
      "\n",
      "6. Input Text: \"TODO: Add timeout to prevent tasks from running too long\"\n",
      "This seems to be a Requirement Technical Debt, as it defines a new functionality to enhance the current behavior of the system.\n",
      "\n",
      "7. Input Text: \"XXX This method is too complex and needs simplification\"\n",
      "This would be classified as Design Technical Debt, as it involves improving the structure and readability of the code.\n",
      "\n",
      "Remember that these are just educated guesses based on limited data, and actual prediction should be done using trained machine learning models.\n",
      "\n"
     ]
    },
    {
     "name": "stdin",
     "output_type": "stream",
     "text": [
      "User:  Input Text: TODO test more formats for ligand\n"
     ]
    },
    {
     "name": "stdout",
     "output_type": "stream",
     "text": [
      "\n",
      "assistant: Based on the provided examples, this sounds like a Requirement Technical Debt. It implies the need for further testing and possibly implementation to support more ligand formats.\n",
      "\n"
     ]
    },
    {
     "name": "stdin",
     "output_type": "stream",
     "text": [
      "User:  Input text: TODO add support for other metrics (ex. euclidean; angular)\n"
     ]
    },
    {
     "name": "stdout",
     "output_type": "stream",
     "text": [
      "\n",
      "assistant: This would classify as a Requirement Technical Debt. The text indicates the need to incorporate new functionalities, i.e., support for other metrics, into the system.\n",
      "\n"
     ]
    },
    {
     "name": "stdin",
     "output_type": "stream",
     "text": [
      "User:  Only give me which type of technical debt it is and not any other context.\n"
     ]
    },
    {
     "name": "stdout",
     "output_type": "stream",
     "text": [
      "\n",
      "assistant: Requirement Technical Debt\n",
      "\n"
     ]
    },
    {
     "name": "stdin",
     "output_type": "stream",
     "text": [
      "User:  TODO: look into how the original array could be better utilised to TODO: My implementation of idf isn't matching *exactly* with theirs; XXX Default number of samples drawn from my arse. TODO TODO is this going to persist correctly? TODO. create README file in <output_dir> TODO: rename TODO(fstahlberg): Move to config TODO validate configuration and set defaults TODO: we really should be more intelligent about this TODO: Rename V_current -> V_i_old; V_i -> V_i_new? TODO Option for string lenght TODO: use TTS data processors TODO - does this handle N-dim tensors correctly? TODO: put in the option to do substitution here (most likely scenario; TODO make threshold a variable normed_cross_entropy # TODO TODO: implement diffxpy method TODO: figure out how why the result of einsum requires reshape TODO: Allow the user to specify a name TODO: make fast_rcnn irrelevant TODO: Implement some kind of caching should be WeightNorm here TODO. TODO: refine TODO: convert this flask app to a tornado app to minimize dependencies. TODO: compare the performance! TODO: should port\\/ip\\/mac address be ignored? yes Directly load the _thread module (needed during bootstrap). TODO : docs and example Return the values that are needed in current mode # FIXME: Set 'name' properly TODO: test this XXX: handle case where points lie on simplex boundaries TODO WIP temp_coherence_loss # assumes all sequences in the dataset share at least one same 3D pos of Baxter arm TODO: we may support size = -1 in the future FIXME TODO add vertical gradient alpha to have fog only at skylevel\\/groundlevel For positive anchors; compute shift and scale needed to transform them FIXME The following identity layer is only needed so that subsequent two lambda layers can be optional. frozen_stages=1; <--- TODO: organize resnet code in terms of stages TODO: add some adds todo: make a pytorch pr where there is a callback on except ValueError as e: # TODO: this TODO check impact of next 2 lines (TODO): In future; it would be nice to support MTL. For now; initializing TODO _mode -> run all commands; specific; or single TODO: finish this XXX both work FIXME: A hack that depends on the _0 convention When writing to a file a special header is needed. load needed classes TODO generalise to series-to-series functions and function kwargs Warning\\/error checking needed for Reshape if channels axis split TODO: Use sklearn.decomposition.TruncatedSVD instead? TODO: instead of updating all subgoals; just add a couple TODO - can remove one of these m0 restores if A and B both TLU XXX Expose this API better from bqlfn. how many vgprs are needed for zero elements @TODO: rewrite self.is_needed = not self.on_train_only or runner.is_train_loader TODO Send the context back into some list maintained by WARNING: bad realtime practice (writing file) TODO: add to a memory buffer and write before exit TODO: need to change this function to allow plotting. TODO Implement TODO: submit a PR to imgaug that registers parameters XXX Use URIs; and attach read-only? TODO: Ensure we're handling redirects.  Might also stick the 'origin' workaround for https:\\/\\/github.com\\/travis-ci\\/travis-api\\/issues\\/196 todo: *0.5 TODO Dehaze with 1\\/t TODO add more test cases Created in SparseApply if needed. XXX: This may be MongoDB only; it updates an inserted dict with _id TODO: this is messy XXX: don't know which way would be the best @todo : verify  forbidden keywords TODO: verify if it is working TODO add support for other metrics (ex. euclidean; angular) TODO TODO test more formats for ligand\n"
     ]
    },
    {
     "name": "stdout",
     "output_type": "stream",
     "text": [
      "\n",
      "assistant: Design Technical Debt, Design Technical Debt, Design Technical Debt, Requirement Technical Debt, Requirement Technical Debt, Design Technical Debt, Requirement Technical Debt, Requirement Technical Debt, Requirement Technical Debt, Requirement Technical Debt, Code Technical Debt, Requirement Technical Debt, Requirement Technical Debt, Requirement Technical Debt, Design Technical Debt, Requirement Technical Debt, Design Technical Debt, Requirement Technical Debt, Requirement Technical Debt, Requirement Technical Debt, Design Technical Debt, Code Technical Debt, Design Technical Debt, Code Technical Debt, Code Technical Debt, Requirement Technical Debt, Code Technical Debt, Requirement Technical Debt, Requirement Technical Debt, Requirement Technical Debt, Requirement Technical Debt, Defect Technical Debt, Requirement Technical Debt, Defect Technical Debt, Code Technical Debt, Design Technical Debt, Requirement Technical Debt, Code Technical Debt, Requirement Technical Debt, Code Technical Debt, Design Technical Debt, Defect Technical Debt, Requirement Technical Debt, Requirement Technical Debt, Design Technical Debt, Requirement Technical Debt, Defect Technical Debt, Requirement Technical Debt, Code Technical Debt, Requirement Technical Debt, Requirement Technical Debt, Requirement Technical Debt, Requirement Technical Debt, Requirement Technical Debt, Requirement Technical Debt, Requirement Technical Debt, Requirement Technical Debt, Requirement Technical Debt, Requirement Technical Debt.\n",
      "\n"
     ]
    },
    {
     "ename": "KeyboardInterrupt",
     "evalue": "Interrupted by user",
     "output_type": "error",
     "traceback": [
      "\u001b[0;31m---------------------------------------------------------------------------\u001b[0m",
      "\u001b[0;31mKeyboardInterrupt\u001b[0m                         Traceback (most recent call last)",
      "Cell \u001b[0;32mIn[17], line 26\u001b[0m\n\u001b[1;32m     23\u001b[0m \u001b[38;5;28mprint\u001b[39m(\u001b[38;5;124m'\u001b[39m\u001b[38;5;132;01m{0}\u001b[39;00m\u001b[38;5;124m: \u001b[39m\u001b[38;5;132;01m{1}\u001b[39;00m\u001b[38;5;130;01m\\n\u001b[39;00m\u001b[38;5;124m'\u001b[39m\u001b[38;5;241m.\u001b[39mformat(conversations[\u001b[38;5;241m-\u001b[39m\u001b[38;5;241m1\u001b[39m][\u001b[38;5;124m'\u001b[39m\u001b[38;5;124mrole\u001b[39m\u001b[38;5;124m'\u001b[39m]\u001b[38;5;241m.\u001b[39mstrip(), conversations[\u001b[38;5;241m-\u001b[39m\u001b[38;5;241m1\u001b[39m][\u001b[38;5;124m'\u001b[39m\u001b[38;5;124mcontent\u001b[39m\u001b[38;5;124m'\u001b[39m]\u001b[38;5;241m.\u001b[39mstrip()))\n\u001b[1;32m     25\u001b[0m \u001b[38;5;28;01mwhile\u001b[39;00m \u001b[38;5;28;01mTrue\u001b[39;00m:\n\u001b[0;32m---> 26\u001b[0m     prompt \u001b[38;5;241m=\u001b[39m \u001b[38;5;28;43minput\u001b[39;49m\u001b[43m(\u001b[49m\u001b[38;5;124;43m'\u001b[39;49m\u001b[38;5;124;43mUser: \u001b[39;49m\u001b[38;5;124;43m'\u001b[39;49m\u001b[43m)\u001b[49m\n\u001b[1;32m     27\u001b[0m     conversations\u001b[38;5;241m.\u001b[39mappend({\u001b[38;5;124m'\u001b[39m\u001b[38;5;124mrole\u001b[39m\u001b[38;5;124m'\u001b[39m: \u001b[38;5;124m'\u001b[39m\u001b[38;5;124muser\u001b[39m\u001b[38;5;124m'\u001b[39m, \u001b[38;5;124m'\u001b[39m\u001b[38;5;124mcontent\u001b[39m\u001b[38;5;124m'\u001b[39m: prompt})\n\u001b[1;32m     28\u001b[0m     conversations \u001b[38;5;241m=\u001b[39m chatgpt_conversation(conversations)\n",
      "File \u001b[0;32m~/miniforge3/envs/myenv/lib/python3.11/site-packages/ipykernel/kernelbase.py:1202\u001b[0m, in \u001b[0;36mKernel.raw_input\u001b[0;34m(self, prompt)\u001b[0m\n\u001b[1;32m   1200\u001b[0m     msg \u001b[38;5;241m=\u001b[39m \u001b[38;5;124m\"\u001b[39m\u001b[38;5;124mraw_input was called, but this frontend does not support input requests.\u001b[39m\u001b[38;5;124m\"\u001b[39m\n\u001b[1;32m   1201\u001b[0m     \u001b[38;5;28;01mraise\u001b[39;00m StdinNotImplementedError(msg)\n\u001b[0;32m-> 1202\u001b[0m \u001b[38;5;28;01mreturn\u001b[39;00m \u001b[38;5;28;43mself\u001b[39;49m\u001b[38;5;241;43m.\u001b[39;49m\u001b[43m_input_request\u001b[49m\u001b[43m(\u001b[49m\n\u001b[1;32m   1203\u001b[0m \u001b[43m    \u001b[49m\u001b[38;5;28;43mstr\u001b[39;49m\u001b[43m(\u001b[49m\u001b[43mprompt\u001b[49m\u001b[43m)\u001b[49m\u001b[43m,\u001b[49m\n\u001b[1;32m   1204\u001b[0m \u001b[43m    \u001b[49m\u001b[38;5;28;43mself\u001b[39;49m\u001b[38;5;241;43m.\u001b[39;49m\u001b[43m_parent_ident\u001b[49m\u001b[43m[\u001b[49m\u001b[38;5;124;43m\"\u001b[39;49m\u001b[38;5;124;43mshell\u001b[39;49m\u001b[38;5;124;43m\"\u001b[39;49m\u001b[43m]\u001b[49m\u001b[43m,\u001b[49m\n\u001b[1;32m   1205\u001b[0m \u001b[43m    \u001b[49m\u001b[38;5;28;43mself\u001b[39;49m\u001b[38;5;241;43m.\u001b[39;49m\u001b[43mget_parent\u001b[49m\u001b[43m(\u001b[49m\u001b[38;5;124;43m\"\u001b[39;49m\u001b[38;5;124;43mshell\u001b[39;49m\u001b[38;5;124;43m\"\u001b[39;49m\u001b[43m)\u001b[49m\u001b[43m,\u001b[49m\n\u001b[1;32m   1206\u001b[0m \u001b[43m    \u001b[49m\u001b[43mpassword\u001b[49m\u001b[38;5;241;43m=\u001b[39;49m\u001b[38;5;28;43;01mFalse\u001b[39;49;00m\u001b[43m,\u001b[49m\n\u001b[1;32m   1207\u001b[0m \u001b[43m\u001b[49m\u001b[43m)\u001b[49m\n",
      "File \u001b[0;32m~/miniforge3/envs/myenv/lib/python3.11/site-packages/ipykernel/kernelbase.py:1245\u001b[0m, in \u001b[0;36mKernel._input_request\u001b[0;34m(self, prompt, ident, parent, password)\u001b[0m\n\u001b[1;32m   1242\u001b[0m \u001b[38;5;28;01mexcept\u001b[39;00m \u001b[38;5;167;01mKeyboardInterrupt\u001b[39;00m:\n\u001b[1;32m   1243\u001b[0m     \u001b[38;5;66;03m# re-raise KeyboardInterrupt, to truncate traceback\u001b[39;00m\n\u001b[1;32m   1244\u001b[0m     msg \u001b[38;5;241m=\u001b[39m \u001b[38;5;124m\"\u001b[39m\u001b[38;5;124mInterrupted by user\u001b[39m\u001b[38;5;124m\"\u001b[39m\n\u001b[0;32m-> 1245\u001b[0m     \u001b[38;5;28;01mraise\u001b[39;00m \u001b[38;5;167;01mKeyboardInterrupt\u001b[39;00m(msg) \u001b[38;5;28;01mfrom\u001b[39;00m \u001b[38;5;28;01mNone\u001b[39;00m\n\u001b[1;32m   1246\u001b[0m \u001b[38;5;28;01mexcept\u001b[39;00m \u001b[38;5;167;01mException\u001b[39;00m:\n\u001b[1;32m   1247\u001b[0m     \u001b[38;5;28mself\u001b[39m\u001b[38;5;241m.\u001b[39mlog\u001b[38;5;241m.\u001b[39mwarning(\u001b[38;5;124m\"\u001b[39m\u001b[38;5;124mInvalid Message:\u001b[39m\u001b[38;5;124m\"\u001b[39m, exc_info\u001b[38;5;241m=\u001b[39m\u001b[38;5;28;01mTrue\u001b[39;00m)\n",
      "\u001b[0;31mKeyboardInterrupt\u001b[0m: Interrupted by user"
     ]
    }
   ],
   "source": [
    "import openai\n",
    "\n",
    "API_KEY = \"your_api_key\"\n",
    "openai.api_key = API_KEY\n",
    "model_id = 'gpt-4'\n",
    "\n",
    "def chatgpt_conversation(conversation_log):\n",
    "    response = openai.ChatCompletion.create(\n",
    "        model=model_id,\n",
    "        messages=conversation_log\n",
    "    )\n",
    "\n",
    "    conversation_log.append({\n",
    "        'role': response.choices[0].message.role, \n",
    "        'content': response.choices[0].message.content.strip()\n",
    "    })\n",
    "    return conversation_log\n",
    "\n",
    "conversations = []\n",
    "# system, user, assistant\n",
    "conversations.append({'role': 'system', 'content': 'How may I help you?'})\n",
    "conversations = chatgpt_conversation(conversations)\n",
    "print('{0}: {1}\\n'.format(conversations[-1]['role'].strip(), conversations[-1]['content'].strip()))\n",
    "\n",
    "while True:\n",
    "    prompt = input('User: ')\n",
    "    conversations.append({'role': 'user', 'content': prompt})\n",
    "    conversations = chatgpt_conversation(conversations)\n",
    "    print()\n",
    "    print('{0}: {1}\\n'.format(conversations[-1]['role'].strip(), conversations[-1]['content'].strip()))\n"
   ]
  },
  {
   "cell_type": "code",
   "execution_count": null,
   "id": "56afa0f3-2c07-4323-a681-ffa4ed6556e3",
   "metadata": {},
   "outputs": [],
   "source": []
  }
 ],
 "metadata": {
  "kernelspec": {
   "display_name": "Python 3 (ipykernel)",
   "language": "python",
   "name": "python3"
  },
  "language_info": {
   "codemirror_mode": {
    "name": "ipython",
    "version": 3
   },
   "file_extension": ".py",
   "mimetype": "text/x-python",
   "name": "python",
   "nbconvert_exporter": "python",
   "pygments_lexer": "ipython3",
   "version": "3.11.4"
  }
 },
 "nbformat": 4,
 "nbformat_minor": 5
}
