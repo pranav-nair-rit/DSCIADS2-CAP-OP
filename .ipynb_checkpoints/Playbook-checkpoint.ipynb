{
 "cells": [
  {
   "cell_type": "code",
   "execution_count": 27,
   "id": "1d2ceaf2",
   "metadata": {},
   "outputs": [],
   "source": [
    "import pandas as pd"
   ]
  },
  {
   "cell_type": "markdown",
   "id": "6be1dfc1",
   "metadata": {},
   "source": [
    "#### Taking 4 hand annotated datastsets"
   ]
  },
  {
   "cell_type": "code",
   "execution_count": 28,
   "id": "4bcbc6f7",
   "metadata": {},
   "outputs": [],
   "source": [
    "model = pd.read_excel('All_Data/model.xlsx', index_col=None)\n",
    "feature = pd.read_excel('All_Data/feature.xlsx')\n",
    "train = pd.read_excel('All_Data/train.xlsx')\n",
    "encoding = pd.read_excel('All_Data/encoding.xlsx')"
   ]
  },
  {
   "cell_type": "code",
   "execution_count": 29,
   "id": "2eeeac49",
   "metadata": {},
   "outputs": [],
   "source": [
    "df = pd.concat([model[['Comment', 'MLTD']], feature[['Comment', 'MLTD']], train[['Comment', 'MLTD']], encoding[['Comment', 'MLTD']]], axis=0)"
   ]
  },
  {
   "cell_type": "code",
   "execution_count": 30,
   "id": "41356863",
   "metadata": {},
   "outputs": [
    {
     "data": {
      "text/plain": [
       "Yes    1207\n",
       "No      313\n",
       "Name: MLTD, dtype: int64"
      ]
     },
     "execution_count": 30,
     "metadata": {},
     "output_type": "execute_result"
    }
   ],
   "source": [
    "df['MLTD'].value_counts()"
   ]
  },
  {
   "cell_type": "markdown",
   "id": "86984fca",
   "metadata": {},
   "source": [
    "#### Dropping duplcate values"
   ]
  },
  {
   "cell_type": "code",
   "execution_count": 31,
   "id": "6edf5c89",
   "metadata": {},
   "outputs": [],
   "source": [
    "df = df.drop_duplicates()"
   ]
  },
  {
   "cell_type": "code",
   "execution_count": 32,
   "id": "8a69e2a7",
   "metadata": {},
   "outputs": [
    {
     "data": {
      "text/html": [
       "<div>\n",
       "<style scoped>\n",
       "    .dataframe tbody tr th:only-of-type {\n",
       "        vertical-align: middle;\n",
       "    }\n",
       "\n",
       "    .dataframe tbody tr th {\n",
       "        vertical-align: top;\n",
       "    }\n",
       "\n",
       "    .dataframe thead th {\n",
       "        text-align: right;\n",
       "    }\n",
       "</style>\n",
       "<table border=\"1\" class=\"dataframe\">\n",
       "  <thead>\n",
       "    <tr style=\"text-align: right;\">\n",
       "      <th></th>\n",
       "      <th>Comment</th>\n",
       "      <th>MLTD</th>\n",
       "    </tr>\n",
       "  </thead>\n",
       "  <tbody>\n",
       "    <tr>\n",
       "      <th>0</th>\n",
       "      <td>TODO cont feat names no longer required only n...</td>\n",
       "      <td>Yes</td>\n",
       "    </tr>\n",
       "    <tr>\n",
       "      <th>1</th>\n",
       "      <td>TODO: check whether model_builder is necessary...</td>\n",
       "      <td>No</td>\n",
       "    </tr>\n",
       "    <tr>\n",
       "      <th>2</th>\n",
       "      <td>TODO model.default_collection only in BaseMode...</td>\n",
       "      <td>No</td>\n",
       "    </tr>\n",
       "    <tr>\n",
       "      <th>3</th>\n",
       "      <td>TODO Lida Xu please re-write the CNN model</td>\n",
       "      <td>Yes</td>\n",
       "    </tr>\n",
       "    <tr>\n",
       "      <th>4</th>\n",
       "      <td>\\\"\\\"\\\" || TODO: This test fails due to the ran...</td>\n",
       "      <td>Yes</td>\n",
       "    </tr>\n",
       "    <tr>\n",
       "      <th>...</th>\n",
       "      <td>...</td>\n",
       "      <td>...</td>\n",
       "    </tr>\n",
       "    <tr>\n",
       "      <th>39</th>\n",
       "      <td>TODO: remove label encoding when class bug is ...</td>\n",
       "      <td>Yes</td>\n",
       "    </tr>\n",
       "    <tr>\n",
       "      <th>44</th>\n",
       "      <td>TODO: Check if weight is tied to encoding embe...</td>\n",
       "      <td>Yes</td>\n",
       "    </tr>\n",
       "    <tr>\n",
       "      <th>45</th>\n",
       "      <td>TODO: use `tokenize.detect_encoding`</td>\n",
       "      <td>Yes</td>\n",
       "    </tr>\n",
       "    <tr>\n",
       "      <th>46</th>\n",
       "      <td>TODO don't like that: encoding after each event</td>\n",
       "      <td>Yes</td>\n",
       "    </tr>\n",
       "    <tr>\n",
       "      <th>47</th>\n",
       "      <td>TODO might not work with label_featurizer enco...</td>\n",
       "      <td>Yes</td>\n",
       "    </tr>\n",
       "  </tbody>\n",
       "</table>\n",
       "<p>1103 rows × 2 columns</p>\n",
       "</div>"
      ],
      "text/plain": [
       "                                              Comment MLTD\n",
       "0   TODO cont feat names no longer required only n...  Yes\n",
       "1   TODO: check whether model_builder is necessary...   No\n",
       "2   TODO model.default_collection only in BaseMode...   No\n",
       "3          TODO Lida Xu please re-write the CNN model  Yes\n",
       "4   \\\"\\\"\\\" || TODO: This test fails due to the ran...  Yes\n",
       "..                                                ...  ...\n",
       "39  TODO: remove label encoding when class bug is ...  Yes\n",
       "44  TODO: Check if weight is tied to encoding embe...  Yes\n",
       "45               TODO: use `tokenize.detect_encoding`  Yes\n",
       "46    TODO don't like that: encoding after each event  Yes\n",
       "47  TODO might not work with label_featurizer enco...  Yes\n",
       "\n",
       "[1103 rows x 2 columns]"
      ]
     },
     "execution_count": 32,
     "metadata": {},
     "output_type": "execute_result"
    }
   ],
   "source": [
    "df"
   ]
  },
  {
   "cell_type": "markdown",
   "id": "a3bfdad7",
   "metadata": {},
   "source": [
    "#### Escaping unicode characters"
   ]
  },
  {
   "cell_type": "code",
   "execution_count": 33,
   "id": "518ad0bf",
   "metadata": {},
   "outputs": [
    {
     "name": "stderr",
     "output_type": "stream",
     "text": [
      "/var/folders/3q/dw048hjx6d775m1t6pn8lf5h0000gs/T/ipykernel_1608/4191709658.py:1: DeprecationWarning: invalid escape sequence '\\/'\n",
      "  df['Comment'] = df['Comment'].apply(lambda x:x.encode('ascii').decode('unicode_escape'))\n"
     ]
    }
   ],
   "source": [
    "df['Comment'] = df['Comment'].apply(lambda x:x.encode('ascii').decode('unicode_escape'))"
   ]
  },
  {
   "cell_type": "code",
   "execution_count": 34,
   "id": "424e41ce",
   "metadata": {},
   "outputs": [
    {
     "data": {
      "text/html": [
       "<div>\n",
       "<style scoped>\n",
       "    .dataframe tbody tr th:only-of-type {\n",
       "        vertical-align: middle;\n",
       "    }\n",
       "\n",
       "    .dataframe tbody tr th {\n",
       "        vertical-align: top;\n",
       "    }\n",
       "\n",
       "    .dataframe thead th {\n",
       "        text-align: right;\n",
       "    }\n",
       "</style>\n",
       "<table border=\"1\" class=\"dataframe\">\n",
       "  <thead>\n",
       "    <tr style=\"text-align: right;\">\n",
       "      <th></th>\n",
       "      <th>Comment</th>\n",
       "      <th>MLTD</th>\n",
       "    </tr>\n",
       "  </thead>\n",
       "  <tbody>\n",
       "    <tr>\n",
       "      <th>0</th>\n",
       "      <td>TODO cont feat names no longer required only n...</td>\n",
       "      <td>Yes</td>\n",
       "    </tr>\n",
       "    <tr>\n",
       "      <th>1</th>\n",
       "      <td>TODO: check whether model_builder is necessary...</td>\n",
       "      <td>No</td>\n",
       "    </tr>\n",
       "    <tr>\n",
       "      <th>2</th>\n",
       "      <td>TODO model.default_collection only in BaseMode...</td>\n",
       "      <td>No</td>\n",
       "    </tr>\n",
       "    <tr>\n",
       "      <th>3</th>\n",
       "      <td>TODO Lida Xu please re-write the CNN model</td>\n",
       "      <td>Yes</td>\n",
       "    </tr>\n",
       "    <tr>\n",
       "      <th>4</th>\n",
       "      <td>\"\"\" || TODO: This test fails due to the random...</td>\n",
       "      <td>Yes</td>\n",
       "    </tr>\n",
       "  </tbody>\n",
       "</table>\n",
       "</div>"
      ],
      "text/plain": [
       "                                             Comment MLTD\n",
       "0  TODO cont feat names no longer required only n...  Yes\n",
       "1  TODO: check whether model_builder is necessary...   No\n",
       "2  TODO model.default_collection only in BaseMode...   No\n",
       "3         TODO Lida Xu please re-write the CNN model  Yes\n",
       "4  \"\"\" || TODO: This test fails due to the random...  Yes"
      ]
     },
     "execution_count": 34,
     "metadata": {},
     "output_type": "execute_result"
    }
   ],
   "source": [
    "df.head()"
   ]
  },
  {
   "cell_type": "markdown",
   "id": "a6f5a435",
   "metadata": {},
   "source": [
    "#### Loading a transformer model into the spaCy pipeline"
   ]
  },
  {
   "cell_type": "code",
   "execution_count": 35,
   "id": "79dbfabc",
   "metadata": {},
   "outputs": [],
   "source": [
    "from spacy.training.example import Example\n",
    "from spacy.util import minibatch\n",
    "import random"
   ]
  },
  {
   "cell_type": "code",
   "execution_count": 10,
   "id": "c7f6422e",
   "metadata": {},
   "outputs": [
    {
     "data": {
      "text/plain": [
       "1"
      ]
     },
     "execution_count": 10,
     "metadata": {},
     "output_type": "execute_result"
    }
   ],
   "source": [
    "import spacy\n",
    "nlp = spacy.blank('en')\n",
    "\n",
    "config = {\n",
    "    \"model\" : {\n",
    "        \"@architectures\": \"spacy-transformers.TransformerModel.v3\",\n",
    "        \"name\": \"microsoft/codebert-base\"\n",
    "    }\n",
    "}\n",
    "\n",
    "# nlp.add_pipe(\"transformer\", config = config)\n",
    "textcat = nlp.add_pipe(\"textcat\", last=True)\n",
    "textcat.add_label(\"Yes\")\n",
    "textcat.add_label(\"No\")"
   ]
  },
  {
   "cell_type": "code",
   "execution_count": 11,
   "id": "714db297",
   "metadata": {},
   "outputs": [],
   "source": [
    "train_data = []\n",
    "\n",
    "for idx, row in df.iterrows():\n",
    "    labels = {\"Yes\":False, \"No\":False}\n",
    "    if row['MLTD'] == \"Yes\":\n",
    "        labels['Yes'] = True\n",
    "    else:\n",
    "        labels['No'] = True\n",
    "    tup = (row['Comment'], {\"cats\":labels})\n",
    "    train_data.append(tup)"
   ]
  },
  {
   "cell_type": "code",
   "execution_count": 12,
   "id": "f42c5273",
   "metadata": {},
   "outputs": [],
   "source": [
    "train_examples = []\n",
    "\n",
    "for text, annotations in train_data[:200]:\n",
    "    train_examples.append(Example.from_dict(nlp.make_doc(text), annotations))"
   ]
  },
  {
   "cell_type": "code",
   "execution_count": null,
   "id": "d1a9bf7e",
   "metadata": {},
   "outputs": [],
   "source": []
  },
  {
   "cell_type": "code",
   "execution_count": 13,
   "id": "4985c2fe",
   "metadata": {},
   "outputs": [
    {
     "data": {
      "text/plain": [
       "<thinc.optimizers.Optimizer at 0x7faa62680cc0>"
      ]
     },
     "execution_count": 13,
     "metadata": {},
     "output_type": "execute_result"
    }
   ],
   "source": [
    "# Train the model\n",
    "nlp.initialize()"
   ]
  },
  {
   "cell_type": "code",
   "execution_count": 14,
   "id": "4bb5445a",
   "metadata": {},
   "outputs": [
    {
     "name": "stdout",
     "output_type": "stream",
     "text": [
      "{'textcat': 4.765812769532204}\n",
      "{'textcat': 3.456567259505391}\n",
      "{'textcat': 3.348786309361458}\n",
      "{'textcat': 3.2674097856506705}\n",
      "{'textcat': 3.1324857091531157}\n",
      "{'textcat': 3.073168136179447}\n",
      "{'textcat': 3.18490640912205}\n",
      "{'textcat': 2.918075067922473}\n",
      "{'textcat': 3.126375346677378}\n",
      "{'textcat': 2.68063209252432}\n",
      "{'textcat': 2.3615779983229004}\n",
      "{'textcat': 2.3671965022804216}\n",
      "{'textcat': 1.6193219758570194}\n",
      "{'textcat': 1.410908434074372}\n",
      "{'textcat': 1.6631450213535572}\n",
      "{'textcat': 1.3953501990768018}\n",
      "{'textcat': 1.3742426630319073}\n",
      "{'textcat': 1.0239166861770173}\n",
      "{'textcat': 1.4288553542037334}\n",
      "{'textcat': 1.126635500878372}\n",
      "{'textcat': 0.7357673591060916}\n",
      "{'textcat': 0.5093665157378009}\n",
      "{'textcat': 0.6742810882409955}\n",
      "{'textcat': 1.0414643063826716}\n",
      "{'textcat': 0.6792168252310455}\n",
      "{'textcat': 0.4625592626807844}\n",
      "{'textcat': 0.8117307572175325}\n",
      "{'textcat': 0.33867019029686446}\n",
      "{'textcat': 0.37410118040091755}\n",
      "{'textcat': 0.37476249645388293}\n",
      "{'textcat': 0.6973404616889163}\n",
      "{'textcat': 0.6836171659646654}\n",
      "{'textcat': 0.481832303927586}\n",
      "{'textcat': 0.6024633809144515}\n",
      "{'textcat': 0.36374655538577394}\n",
      "{'textcat': 0.36128490709289524}\n",
      "{'textcat': 0.8406003396865703}\n",
      "{'textcat': 0.5120854871362617}\n",
      "{'textcat': 0.5545675642434474}\n",
      "{'textcat': 0.6909318171341394}\n",
      "{'textcat': 0.41955849145234736}\n",
      "{'textcat': 0.38473661262684367}\n",
      "{'textcat': 0.5887514707982575}\n",
      "{'textcat': 0.5067028164783127}\n",
      "{'textcat': 0.41388324815069344}\n",
      "{'textcat': 0.3494831378004162}\n",
      "{'textcat': 0.3258689776950466}\n",
      "{'textcat': 0.5341567654600761}\n",
      "{'textcat': 0.5830705095594741}\n",
      "{'textcat': 0.66504829585453}\n"
     ]
    }
   ],
   "source": [
    "for i in range(50): # Number of training iterations\n",
    "    random.shuffle(train_examples)\n",
    "    losses = {}\n",
    "    for batch in minibatch(train_examples, size=8): # Batch size\n",
    "        nlp.update(batch, drop=0.5, losses=losses) # Dropout rate\n",
    "    print(losses)"
   ]
  },
  {
   "cell_type": "code",
   "execution_count": 15,
   "id": "23f417f9",
   "metadata": {},
   "outputs": [],
   "source": [
    "nlp.to_disk('my_model')"
   ]
  },
  {
   "cell_type": "markdown",
   "id": "8ffd01cd",
   "metadata": {},
   "source": [
    "#### Checking the accuracy on the test dataset"
   ]
  },
  {
   "cell_type": "code",
   "execution_count": 16,
   "id": "ad971dfc",
   "metadata": {},
   "outputs": [],
   "source": [
    "span = pd.read_excel('All_Data/span.xlsx', index_col=None)\n",
    "test = pd.read_excel('All_Data/test.xlsx')\n",
    "tokens = pd.read_excel('All_Data/tokens.xlsx')\n",
    "validate = pd.read_excel('All_Data/validate.xlsx')"
   ]
  },
  {
   "cell_type": "code",
   "execution_count": 17,
   "id": "6c9a0ca7",
   "metadata": {},
   "outputs": [],
   "source": [
    "span['predicted'] = ''"
   ]
  },
  {
   "cell_type": "code",
   "execution_count": 18,
   "id": "fabe62c0",
   "metadata": {},
   "outputs": [],
   "source": [
    "model = nlp.from_disk('my_model')"
   ]
  },
  {
   "cell_type": "code",
   "execution_count": null,
   "id": "636ba3f5",
   "metadata": {},
   "outputs": [],
   "source": []
  },
  {
   "cell_type": "code",
   "execution_count": null,
   "id": "0df571d7",
   "metadata": {},
   "outputs": [],
   "source": []
  },
  {
   "cell_type": "code",
   "execution_count": null,
   "id": "1a7b8a94",
   "metadata": {},
   "outputs": [],
   "source": []
  },
  {
   "cell_type": "code",
   "execution_count": null,
   "id": "db2b24d2",
   "metadata": {},
   "outputs": [],
   "source": []
  },
  {
   "cell_type": "code",
   "execution_count": null,
   "id": "80167b8c",
   "metadata": {},
   "outputs": [],
   "source": []
  },
  {
   "cell_type": "code",
   "execution_count": null,
   "id": "04025ca2",
   "metadata": {},
   "outputs": [],
   "source": []
  },
  {
   "cell_type": "code",
   "execution_count": null,
   "id": "ec566217",
   "metadata": {},
   "outputs": [],
   "source": []
  }
 ],
 "metadata": {
  "kernelspec": {
   "display_name": "Python 3 (ipykernel)",
   "language": "python",
   "name": "python3"
  },
  "language_info": {
   "codemirror_mode": {
    "name": "ipython",
    "version": 3
   },
   "file_extension": ".py",
   "mimetype": "text/x-python",
   "name": "python",
   "nbconvert_exporter": "python",
   "pygments_lexer": "ipython3",
   "version": "3.10.9"
  }
 },
 "nbformat": 4,
 "nbformat_minor": 5
}
