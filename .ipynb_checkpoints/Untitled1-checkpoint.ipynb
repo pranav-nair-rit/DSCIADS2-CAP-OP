{
 "cells": [
  {
   "cell_type": "code",
   "execution_count": 249,
   "id": "442976d5",
   "metadata": {},
   "outputs": [],
   "source": [
    "import pandas as pd"
   ]
  },
  {
   "cell_type": "code",
   "execution_count": 250,
   "id": "15d15dfa",
   "metadata": {},
   "outputs": [],
   "source": [
    "df = pd.read_csv('GPT-annotated-points.csv')"
   ]
  },
  {
   "cell_type": "code",
   "execution_count": 262,
   "id": "c765ce52",
   "metadata": {
    "scrolled": true
   },
   "outputs": [
    {
     "name": "stdout",
     "output_type": "stream",
     "text": [
      "13027 \\\"\\\"\\\" || This module contains utility functions that we often use in various modules. || Unlike helper functions; these functions have to do solely with algorithmic computations. ||  || TODO move cfft; icfft; lgwt; pca_y here || \\\"\\\"\\\"\n",
      "Label: n\n",
      "13028 TODO move this check before anything starts running\n",
      "Label: \n",
      "13029 TODO route optional args to the algoritm\n",
      "Label: \n",
      "13030 TODO iterate instead of using recursion. this is too memoery-expensive\n",
      "Label: \n",
      "13031 TODO move check of output file to a decorator\n",
      "Label: \n",
      "13032 TODO define a constant for this\n",
      "Label: \n",
      "13034 TODO should consider making copy option - i.e that the input won't change\n",
      "Label: \n",
      "13036 TODO iterate instead of using recursion. this is too memoery-expensive\n",
      "Label: \n",
      "13037 TODO can we revert this condition to positive? what they're equal?\n",
      "Label: \n",
      "13038 TODO why not initialize before loop (maybe b\\/c of huge stacks?)\n",
      "Label: \n",
      "13043 TODO adjust to same unified index\n",
      "Label: \n",
      "13044 TODO is it a reference we want to keep?\n",
      "Label: \n",
      "13046 TODO: numpy boolean indexing will return a 1d array (like MATLAB)\n",
      "Label: \n",
      "13048 TODO: Methods that return dictionaries should return useful objects instead\n",
      "Label: \n",
      "13049 TODO: (from MATLAB implementation) - Check that this tolerance make sense for multiple columns in v\n",
      "Label: \n",
      "13050 TODO: (from MATLAB implementation) - Check that this tolerance make sense for multiple columns in v\n",
      "Label: \n",
      "13051 TODO: (from MATLAB implementation) - Check that this tolerance make sense for multiple columns in v\n",
      "Label: \n",
      "13052 TODO: Fix this to avoid lookup each time.\n",
      "Label: \n",
      "13053 TODO: this is function could be move to base class if all standard and fast versions of 2d and 3d are using\n",
      "Label: \n",
      "13054 TODO: (from MATLAB implementation) - Check that this tolerance make sense for multiple columns in v\n",
      "Label: \n",
      "13055 TODO: This is where this differs from MeanEstimator\n",
      "Label: \n",
      "13056 TODO: Numpy has got to have a functional shortcut to avoid looping like this!\n",
      "Label: \n",
      "13057 TODO: Experiment with scipy order; try overwrite_x argument\n",
      "Label: \n",
      "13058 TODO: Implement correct hierarchy and DRY\n",
      "Label: \n",
      "13060 TODO: This could use documentation - very unintuitive!\n",
      "Label: \n",
      "13062 TODO: This part could do with some documentation - not intuitive!\n",
      "Label: \n",
      "13063 TODO: rotated_grids might as well give us correctly shaped array in the first place\n",
      "Label: \n",
      "13064 TODO: Flattening and reshaping at end may not be necessary!\n",
      "Label: \n",
      "13066 TODO: move common functionality up the hierarchy\n",
      "Label: \n",
      "13067 TODO: Things get messed up unless we ensure a 'C' ordering here - investigate why\n",
      "Label: \n",
      "13068 TODO: Too many eval_* methods doing similar things - encapsulate somehow?\n",
      "Label: \n",
      "13069 TODO: Determine Principal Angles and return as a dict value\n",
      "Label: \n",
      "13070 Get the 'mode' (data type) - TODO: There's probably a more direct way to do this.\n",
      "Label: \n",
      "13071 TODO: Rearranging elements to get consistent behavior with MATLAB 'randn2'\n",
      "Label: \n",
      "13072 TODO: Handle complex values in vec\n",
      "Label: \n",
      "13073 TODO should consider making copy option - i.e that the input won't change\n",
      "Label: \n",
      "13075 TODO: Add options\n",
      "Label: \n",
      "13080 TODO: Check behavior if this is a single mrc file (no '@')\n",
      "Label: \n",
      "13081 TODO: Is this a bug?\n",
      "Label: \n",
      "13082 TODO: Accessing protected member - provide a way to get a handle on the _metadata attribute.\n",
      "Label: \n",
      "13083 TODO: Check p and a_p should be real or not ?\n",
      "Label: \n",
      "13089 TODO: need check the initial condition x0 can improve the results or not.\n",
      "Label: \n",
      "13090 TODO move this check before anything starts running\n",
      "Label: \n",
      "13104 TODO: This list could be done better; as some sort of matrix\n",
      "Label: \n",
      "13105 TODO: Address axis swapping once C major in memory.\n",
      "Label: \n",
      "13106 TODO: need to implement it by pipline\n",
      "Label: \n",
      "13107 # TODO: rotated_grids might as well give us correctly shaped array in the first place\n",
      "Label: \n",
      "13108 TODO: maybe replace with ascontiguousarray\n",
      "Label: \n",
      "13109 TODO: decide if should just warn; raise; or convert here.\n",
      "Label: \n",
      "13110 TODO: Decide if this should simply infer from src or basis.\n",
      "Label: \n",
      "13111 TODO: Determine why this cast is needed.\n",
      "Label: \n",
      "13112 TODO: check all of these handle C ordered im data (currently unused).\n",
      "Label: \n",
      "13114 TODO: Rearranging elements to get consistent behavior with MATLAB 'randn2'\n",
      "Label: \n",
      "13115 TODO: maybe replace with ascontiguousarray\n",
      "Label: \n",
      "13116 TODO: Currently\\/historically finufftpy is hardcoded as doubles only (inside the binding layer).\n",
      "Label: \n",
      "13117 TODO: (from MATLAB implementation) - Check that this tolerance make sense for multiple columns in v\n",
      "Label: \n",
      "13118 TODO: figure out how why the result of einsum requires reshape\n",
      "Label: \n",
      "13120 TODO: rotated_grids might as well give us correctly shaped array in the first place\n",
      "Label: \n",
      "13121 TODO: The implementation of these functions should move directly inside the appropriate Image methods that call them.\n",
      "Label: \n",
      "13122 TODO: figure out how why the result of einsum requires reshape\n",
      "Label: \n",
      "13125 TODO: figure out how why the result of einsum requires reshape\n",
      "Label: \n",
      "13126 TODO: Currently\\/historically finufftpy is hardcoded as doubles only (inside the binding layer).\n",
      "Label: \n",
      "13127 TODO: Things get messed up unless we ensure a 'C' ordering here - investigate why\n",
      "Label: \n",
      "13132 TODO this code needs love; 'plt_loss_vector' and similar needs better names.\n",
      "Label: \n",
      "13133 TODO constants should be added to self.args in net_master.py\n",
      "Label: \n",
      "13134 TODO l2r does not belong here and has a bad name\n",
      "Label: \n",
      "13135 TODO calculate a reasonable waveform_length from the longest h obtained IN TOTAL!!!\n",
      "Label: \n",
      "13136 TODO in general; STANDARDIZE THESE SIZES!\n",
      "Label: \n",
      "13141 TODO: Only accepting a single reaction for now\n",
      "Label: \n",
      "13142 TODO: int should be a string in api version  F.FReactionsAddApiVersion(B; '0.1.0')\n",
      "Label: \n",
      "13143 TODO: WARN ABOUT WHEN INDIVIDUAL OBSERVATIONS AND UNOBSERVABLES ARE UNAVAILABLE\n",
      "Label: \n",
      "13144 TODO: Implement\n",
      "Label: \n",
      "13145 TODO: int should be a string in api version  F.FReactionsAddApiVersion(B; '0.1.0')\n",
      "Label: \n",
      "13148 TODO: WARN ABOUT WHEN INDIVIDUAL OBSERVATIONS AND UNOBSERVABLES ARE UNAVAILABLE\n",
      "Label: \n",
      "13149 TODO: WARN ABOUT WHEN INDIVIDUAL OBSERVATIONS AND UNOBSERVABLES ARE UNAVAILABLE\n",
      "Label: \n",
      "13150 TODO: restore proper log-in logic\n",
      "Label: \n",
      "13152 TODO -> filters table?\n",
      "Label: \n",
      "13153 TODO better numpy integration\n",
      "Label: \n",
      "13154 TODO combine plot handlers? one per plot seems excessive\n",
      "Label: \n",
      "13155 TODO y-axis units...?\n",
      "Label: \n",
      "13156 TODO replace `eval` with Namespaces https:\\/\\/github.com\\/bokeh\\/bokeh\\/pull\\/6340\n",
      "Label: \n",
      "13157 TODO how to choose a good default?\n",
      "Label: \n",
      "13158 TODO change limits\n",
      "Label: \n",
      "13159 TODO: Ensure that it's okay for anyone to read any comment\n",
      "Label: \n",
      "13160 TODO how to check plot?\n",
      "Label: \n",
      "13161 TODO where do we get the instrument info?\n",
      "Label: \n",
      "13162 TODO can we remove `autouse` here?\n",
      "Label: \n",
      "13163 TODO how to check plot?\n",
      "Label: \n",
      "13165 TODO this should distinguish between \\\"no data to plot\\\" and \\\"plot failed\\\"\n",
      "Label: \n",
      "13166 TODO support other formats\n",
      "Label: \n",
      "13167 \\\"\\\"\\\"TODO migrate this to broker tools\\\"\\\"\\\"\n",
      "Label: \n",
      "13168 elif file_uri.startswith('s3'):  # TODO is this reliable?\n",
      "Label: \n",
      "13169 TODO delete file after deleting row\n",
      "Label: \n",
      "13170 TODO can't serve from outside static\\/\n",
      "Label: \n",
      "13171 TODO expand to cover the basics of all site functionality\n",
      "Label: \n",
      "13172 TODO should this column type be decimal? fixed-precison numeric\n",
      "Label: \n",
      "13173 TODO decorator\\/context manager?\n",
      "Label: \n",
      "13174 TODO: handle invalid instrument ID\n",
      "Label: \n",
      "13175 TODO: handle invalid source ID\n",
      "Label: \n",
      "13176 TODO decorator\\/context manager?\n",
      "Label: \n",
      "13177 TODO: check the obstime format\n",
      "Label: \n",
      "13178 TODO possibly: save the offset data (cache)\n",
      "Label: \n",
      "13179 TODO possibly: save the offset data (cache)\n",
      "Label: \n",
      "13180 TODO : implement permissions checking\n",
      "Label: \n",
      "13181 TODO : Check permissions\n",
      "Label: \n",
      "13182 TODO Do we need a delete handler? If so; what should it do? Old; unsaved\n",
      "Label: \n",
      "13183 TODO replace `eval` with Namespaces\n",
      "Label: \n",
      "13185 TODO : implement permissions checking\n",
      "Label: \n",
      "13186 TODO: implement permissions checking\n",
      "Label: \n",
      "13187 TODO decorator\\/context manager?\n",
      "Label: \n",
      "13188 TODO: deal with the same name but different groups?\n",
      "Label: \n",
      "13189 TODO how to check plot?\n",
      "Label: \n",
      "13190 TODO: spec.csv shouldn't hard code the\n"
     ]
    },
    {
     "name": "stdout",
     "output_type": "stream",
     "text": [
      "Label: \n",
      "13191 TODO decorator\\/context manager?\n",
      "Label: \n",
      "13194 TODO how to check plot?\n",
      "Label: \n",
      "13197 TODO decorator\\/context manager?\n",
      "Label: \n",
      "13208 TODO: Track filter ownership and allow owners to update; delete filters\n",
      "Label: \n",
      "13209 TODO: Make read-accessible via target groups\n",
      "Label: \n",
      "13213 TODO: Update dataset loading as soon as https:\\/\\/github.com\\/src-d\\/backlog\\/issues\\/1212 done\n",
      "Label: \n",
      "13219 TODO: Can we make this use a pre-calculated powerspectrum?\n",
      "Label: \n",
      "13220 TODO: Come up with better name than \\\"datalevel\\\"?\n",
      "Label: \n",
      "13221 TODO: Only one setting for now...\n",
      "Label: \n",
      "13225 Generate TODO file if it is needed:\n",
      "Label: \n",
      "13226 TODO: Come up with better name than \\\"datalevel\\\"?\n",
      "Label: \n",
      "13228 TODO: Only include classes from the current level\n",
      "Label: \n",
      "13230 TODO: Also reject on SNR\n",
      "Label: \n",
      "13231 TODO: Only include classes from the current level\n",
      "Label: \n",
      "13232 TODO: Use TaskManager for this?\n",
      "Label: \n",
      "13233 TODO: This should obviously be removed once we start running for real\n",
      "Label: \n",
      "13234 TODO: Add these as inputs\n",
      "Label: \n",
      "13236 TODO: Is this even needed?\n",
      "Label: \n",
      "13237 TODO: Use TaskManager for this?\n",
      "Label: \n",
      "13239 TODO: Add check of data validation!\n",
      "Label: \n",
      "13241 TODO: Use TaskManager for this?\n",
      "Label: \n",
      "13242 TODO: Is this right?\n",
      "Label: \n",
      "13246 TODO: check and adapt the calculation to 10 harmonics\n",
      "Label: \n",
      "13248 TODO: Add these to classifier object?\n",
      "Label: \n",
      "13250 TODO: Should we throw an error if a classifier is not run at all?\n",
      "Label: \n",
      "13251 TODO: Remove NaNs? Or set them to -1?\n",
      "Label: \n",
      "13252 TODO: Add these to classifier object?\n",
      "Label: \n",
      "13253 TODO: Why is it needed to re-normalize the lightcurve here?\n",
      "Label: \n",
      "13254 TODO: Use table indicies - Problem with Pickle\n",
      "Label: \n",
      "13255 TODO: Level 1 classes hardcoded!\n",
      "Label: \n",
      "13256 TODO: Don't save things into sub-directories\n",
      "Label: \n",
      "13258 TODO: Check if results are already present\n",
      "Label: \n",
      "13264 TODO: this should use the step config from an overridden commit\n",
      "Label: \n",
      "13265 TODO: this really shouldn't be necessary!\n",
      "Label: \n",
      "13267 TODO: refactor column alignment in single-line and multiline modes\n",
      "Label: \n",
      "13271 TODO: Remove in 2020.\n",
      "Label: \n",
      "13272 TODO: Remove this if numpy insert is as fast as append\n",
      "Label: \n",
      "13273 TODO: Needs redesign to remove hack\n",
      "Label: \n",
      "13276 TODO Need to find a better pickle-compatible way which is deleted at end\n",
      "Label: \n",
      "13277 TODO: Missing CIPCode unsetting\n",
      "Label: \n",
      "13278 TODO: Set PDB double bonds\n",
      "Label: \n",
      "13280 TODO: fix the reader\n",
      "Label: \n",
      "13281 TODO: Read altloc. Quite complex actually. Won't bother.\n",
      "Label: \n",
      "13286 TODO validate it. Implement smarts recognition\n",
      "Label: \n",
      "13291 TODO: Why the +1?\n",
      "Label: \n",
      "13292 TODO: Can remove this. Barely any speedup\n",
      "Label: \n",
      "13293 TODO: After deleting labels it breaks. Better don't delete or fix the code\n",
      "Label: \n",
      "13294 TODO: Replace the loops for bonds with ravel\n",
      "Label: \n",
      "13295 TODO: Remove SDF. Currently skipping it due to date in second line\n",
      "Label: \n",
      "13297 TODO: Should we remove bonds between metals and protein? Should we remove metals before guessing bonds and add them back in? Might crash otherwise?\n",
      "Label: \n",
      "13299 TODO: ask bid pricing\n",
      "Label: \n",
      "13300 TODO: better name for fee\n",
      "Label: \n",
      "13301 TODO: avoid long codes\n",
      "Label: \n",
      "13315 TODO: Check AutoFilter enabled before doing AutoFilter\n",
      "Label: \n"
     ]
    }
   ],
   "source": [
    "# n_count = 0;\n",
    "for idx in TODO:\n",
    "    if idx >= 13027:\n",
    "        print(idx, df.loc[idx, 'Comment'])\n",
    "        label = input('Label: ')\n",
    "        if label != '' and label == 'n':\n",
    "            df.loc[idx, 'actual_MLTD_label'] = label\n",
    "            n_count += 1"
   ]
  },
  {
   "cell_type": "code",
   "execution_count": 264,
   "id": "2a89f843",
   "metadata": {},
   "outputs": [
    {
     "data": {
      "text/plain": [
       "y    12352\n",
       "n      974\n",
       "Name: actual_MLTD_label, dtype: int64"
      ]
     },
     "execution_count": 264,
     "metadata": {},
     "output_type": "execute_result"
    }
   ],
   "source": [
    "df['actual_MLTD_label'].value_counts()\n"
   ]
  },
  {
   "cell_type": "code",
   "execution_count": 265,
   "id": "5f75a663",
   "metadata": {},
   "outputs": [],
   "source": [
    "df.to_csv('GPT-annotated-points.csv', index=False)"
   ]
  },
  {
   "cell_type": "code",
   "execution_count": 266,
   "id": "eeb77ff1",
   "metadata": {},
   "outputs": [
    {
     "data": {
      "text/plain": [
       "13326"
      ]
     },
     "execution_count": 266,
     "metadata": {},
     "output_type": "execute_result"
    }
   ],
   "source": [
    "12352+974"
   ]
  },
  {
   "cell_type": "code",
   "execution_count": 13,
   "id": "fd7f683f",
   "metadata": {},
   "outputs": [],
   "source": [
    "import random"
   ]
  },
  {
   "cell_type": "code",
   "execution_count": 14,
   "id": "2d4fb77d",
   "metadata": {},
   "outputs": [],
   "source": [
    "for k in range(12600):\n",
    "    i = random.randint(0, 12600)\n",
    "    df.loc[i, \"actual_MLTD_label\"] = \"No\"\n",
    "    "
   ]
  },
  {
   "cell_type": "code",
   "execution_count": 15,
   "id": "9747bcdf",
   "metadata": {},
   "outputs": [],
   "source": [
    "df.to_csv('Annotated_data_full.csv', index=False)"
   ]
  },
  {
   "cell_type": "code",
   "execution_count": null,
   "id": "baca63c5",
   "metadata": {},
   "outputs": [],
   "source": []
  },
  {
   "cell_type": "code",
   "execution_count": 97,
   "id": "c6163f09",
   "metadata": {},
   "outputs": [
    {
     "data": {
      "text/plain": [
       "73"
      ]
     },
     "execution_count": 97,
     "metadata": {},
     "output_type": "execute_result"
    }
   ],
   "source": [
    "len('If true; `todo` and `todoList` produce output; else they produce nothing.')"
   ]
  },
  {
   "cell_type": "code",
   "execution_count": 165,
   "id": "8b8ec0e2",
   "metadata": {},
   "outputs": [],
   "source": [
    "TODO = df[df['Comment'].str.contains('TODO') & (df['Comment']!='TODO') & (df['Comment']!='TODO:')].index.tolist()"
   ]
  },
  {
   "cell_type": "code",
   "execution_count": 150,
   "id": "35cd63bb",
   "metadata": {},
   "outputs": [],
   "source": [
    "for idx in TTODO:\n",
    "    df.loc[idx, 'actual_MLTD_label'] = 'n'"
   ]
  },
  {
   "cell_type": "code",
   "execution_count": 134,
   "id": "ca8eb903",
   "metadata": {},
   "outputs": [],
   "source": [
    "comment_indices = df[df['Comment'].apply(lambda x:len(x)>200)].index.tolist()"
   ]
  },
  {
   "cell_type": "code",
   "execution_count": 149,
   "id": "2c12469f",
   "metadata": {},
   "outputs": [],
   "source": [
    "TTODO = df[df['Comment'].apply(lambda x:len(x)<=10) & (df['Comment'].str.contains('TODO:'))].index"
   ]
  },
  {
   "cell_type": "code",
   "execution_count": null,
   "id": "06d60494",
   "metadata": {},
   "outputs": [],
   "source": []
  },
  {
   "cell_type": "code",
   "execution_count": 286,
   "id": "62a757f8",
   "metadata": {},
   "outputs": [],
   "source": [
    "import pandas as pd\n",
    "\n",
    "\n",
    "positives = pd.read_excel('POSITIVE BY OK 1000 ENTRIES.xlsx')"
   ]
  },
  {
   "cell_type": "code",
   "execution_count": 287,
   "id": "a7d517b2",
   "metadata": {},
   "outputs": [],
   "source": [
    "positives['GPT_4_Predicted_MLTD_label'] = positives['GPT_4_Predicted_MLTD_label'].str.replace('Yes', '1').astype(int)"
   ]
  },
  {
   "cell_type": "code",
   "execution_count": 288,
   "id": "bd12318d",
   "metadata": {},
   "outputs": [
    {
     "ename": "ValueError",
     "evalue": "cannot convert float NaN to integer",
     "output_type": "error",
     "traceback": [
      "\u001b[0;31m---------------------------------------------------------------------------\u001b[0m",
      "\u001b[0;31mValueError\u001b[0m                                Traceback (most recent call last)",
      "Cell \u001b[0;32mIn[288], line 1\u001b[0m\n\u001b[0;32m----> 1\u001b[0m positives[\u001b[38;5;124m'\u001b[39m\u001b[38;5;124mactual_MLTD_label\u001b[39m\u001b[38;5;124m'\u001b[39m] \u001b[38;5;241m=\u001b[39m \u001b[43mpositives\u001b[49m\u001b[43m[\u001b[49m\u001b[38;5;124;43m'\u001b[39;49m\u001b[38;5;124;43mactual_MLTD_label\u001b[39;49m\u001b[38;5;124;43m'\u001b[39;49m\u001b[43m]\u001b[49m\u001b[38;5;241;43m.\u001b[39;49m\u001b[43mstr\u001b[49m\u001b[38;5;241;43m.\u001b[39;49m\u001b[43mreplace\u001b[49m\u001b[43m(\u001b[49m\u001b[38;5;124;43m'\u001b[39;49m\u001b[38;5;124;43mnan\u001b[39;49m\u001b[38;5;124;43m'\u001b[39;49m\u001b[43m,\u001b[49m\u001b[43m \u001b[49m\u001b[38;5;124;43m'\u001b[39;49m\u001b[38;5;124;43m1\u001b[39;49m\u001b[38;5;124;43m'\u001b[39;49m\u001b[43m)\u001b[49m\u001b[38;5;241;43m.\u001b[39;49m\u001b[43mastype\u001b[49m\u001b[43m(\u001b[49m\u001b[38;5;28;43mint\u001b[39;49m\u001b[43m)\u001b[49m\n",
      "File \u001b[0;32m~/anaconda3/envs/gates_ntd_ner/lib/python3.10/site-packages/pandas/core/generic.py:6240\u001b[0m, in \u001b[0;36mNDFrame.astype\u001b[0;34m(self, dtype, copy, errors)\u001b[0m\n\u001b[1;32m   6233\u001b[0m     results \u001b[38;5;241m=\u001b[39m [\n\u001b[1;32m   6234\u001b[0m         \u001b[38;5;28mself\u001b[39m\u001b[38;5;241m.\u001b[39miloc[:, i]\u001b[38;5;241m.\u001b[39mastype(dtype, copy\u001b[38;5;241m=\u001b[39mcopy)\n\u001b[1;32m   6235\u001b[0m         \u001b[38;5;28;01mfor\u001b[39;00m i \u001b[38;5;129;01min\u001b[39;00m \u001b[38;5;28mrange\u001b[39m(\u001b[38;5;28mlen\u001b[39m(\u001b[38;5;28mself\u001b[39m\u001b[38;5;241m.\u001b[39mcolumns))\n\u001b[1;32m   6236\u001b[0m     ]\n\u001b[1;32m   6238\u001b[0m \u001b[38;5;28;01melse\u001b[39;00m:\n\u001b[1;32m   6239\u001b[0m     \u001b[38;5;66;03m# else, only a single dtype is given\u001b[39;00m\n\u001b[0;32m-> 6240\u001b[0m     new_data \u001b[38;5;241m=\u001b[39m \u001b[38;5;28;43mself\u001b[39;49m\u001b[38;5;241;43m.\u001b[39;49m\u001b[43m_mgr\u001b[49m\u001b[38;5;241;43m.\u001b[39;49m\u001b[43mastype\u001b[49m\u001b[43m(\u001b[49m\u001b[43mdtype\u001b[49m\u001b[38;5;241;43m=\u001b[39;49m\u001b[43mdtype\u001b[49m\u001b[43m,\u001b[49m\u001b[43m \u001b[49m\u001b[43mcopy\u001b[49m\u001b[38;5;241;43m=\u001b[39;49m\u001b[43mcopy\u001b[49m\u001b[43m,\u001b[49m\u001b[43m \u001b[49m\u001b[43merrors\u001b[49m\u001b[38;5;241;43m=\u001b[39;49m\u001b[43merrors\u001b[49m\u001b[43m)\u001b[49m\n\u001b[1;32m   6241\u001b[0m     \u001b[38;5;28;01mreturn\u001b[39;00m \u001b[38;5;28mself\u001b[39m\u001b[38;5;241m.\u001b[39m_constructor(new_data)\u001b[38;5;241m.\u001b[39m__finalize__(\u001b[38;5;28mself\u001b[39m, method\u001b[38;5;241m=\u001b[39m\u001b[38;5;124m\"\u001b[39m\u001b[38;5;124mastype\u001b[39m\u001b[38;5;124m\"\u001b[39m)\n\u001b[1;32m   6243\u001b[0m \u001b[38;5;66;03m# GH 33113: handle empty frame or series\u001b[39;00m\n",
      "File \u001b[0;32m~/anaconda3/envs/gates_ntd_ner/lib/python3.10/site-packages/pandas/core/internals/managers.py:448\u001b[0m, in \u001b[0;36mBaseBlockManager.astype\u001b[0;34m(self, dtype, copy, errors)\u001b[0m\n\u001b[1;32m    447\u001b[0m \u001b[38;5;28;01mdef\u001b[39;00m \u001b[38;5;21mastype\u001b[39m(\u001b[38;5;28mself\u001b[39m: T, dtype, copy: \u001b[38;5;28mbool\u001b[39m \u001b[38;5;241m=\u001b[39m \u001b[38;5;28;01mFalse\u001b[39;00m, errors: \u001b[38;5;28mstr\u001b[39m \u001b[38;5;241m=\u001b[39m \u001b[38;5;124m\"\u001b[39m\u001b[38;5;124mraise\u001b[39m\u001b[38;5;124m\"\u001b[39m) \u001b[38;5;241m-\u001b[39m\u001b[38;5;241m>\u001b[39m T:\n\u001b[0;32m--> 448\u001b[0m     \u001b[38;5;28;01mreturn\u001b[39;00m \u001b[38;5;28;43mself\u001b[39;49m\u001b[38;5;241;43m.\u001b[39;49m\u001b[43mapply\u001b[49m\u001b[43m(\u001b[49m\u001b[38;5;124;43m\"\u001b[39;49m\u001b[38;5;124;43mastype\u001b[39;49m\u001b[38;5;124;43m\"\u001b[39;49m\u001b[43m,\u001b[49m\u001b[43m \u001b[49m\u001b[43mdtype\u001b[49m\u001b[38;5;241;43m=\u001b[39;49m\u001b[43mdtype\u001b[49m\u001b[43m,\u001b[49m\u001b[43m \u001b[49m\u001b[43mcopy\u001b[49m\u001b[38;5;241;43m=\u001b[39;49m\u001b[43mcopy\u001b[49m\u001b[43m,\u001b[49m\u001b[43m \u001b[49m\u001b[43merrors\u001b[49m\u001b[38;5;241;43m=\u001b[39;49m\u001b[43merrors\u001b[49m\u001b[43m)\u001b[49m\n",
      "File \u001b[0;32m~/anaconda3/envs/gates_ntd_ner/lib/python3.10/site-packages/pandas/core/internals/managers.py:352\u001b[0m, in \u001b[0;36mBaseBlockManager.apply\u001b[0;34m(self, f, align_keys, ignore_failures, **kwargs)\u001b[0m\n\u001b[1;32m    350\u001b[0m         applied \u001b[38;5;241m=\u001b[39m b\u001b[38;5;241m.\u001b[39mapply(f, \u001b[38;5;241m*\u001b[39m\u001b[38;5;241m*\u001b[39mkwargs)\n\u001b[1;32m    351\u001b[0m     \u001b[38;5;28;01melse\u001b[39;00m:\n\u001b[0;32m--> 352\u001b[0m         applied \u001b[38;5;241m=\u001b[39m \u001b[38;5;28;43mgetattr\u001b[39;49m\u001b[43m(\u001b[49m\u001b[43mb\u001b[49m\u001b[43m,\u001b[49m\u001b[43m \u001b[49m\u001b[43mf\u001b[49m\u001b[43m)\u001b[49m\u001b[43m(\u001b[49m\u001b[38;5;241;43m*\u001b[39;49m\u001b[38;5;241;43m*\u001b[39;49m\u001b[43mkwargs\u001b[49m\u001b[43m)\u001b[49m\n\u001b[1;32m    353\u001b[0m \u001b[38;5;28;01mexcept\u001b[39;00m (\u001b[38;5;167;01mTypeError\u001b[39;00m, \u001b[38;5;167;01mNotImplementedError\u001b[39;00m):\n\u001b[1;32m    354\u001b[0m     \u001b[38;5;28;01mif\u001b[39;00m \u001b[38;5;129;01mnot\u001b[39;00m ignore_failures:\n",
      "File \u001b[0;32m~/anaconda3/envs/gates_ntd_ner/lib/python3.10/site-packages/pandas/core/internals/blocks.py:526\u001b[0m, in \u001b[0;36mBlock.astype\u001b[0;34m(self, dtype, copy, errors)\u001b[0m\n\u001b[1;32m    508\u001b[0m \u001b[38;5;124;03m\"\"\"\u001b[39;00m\n\u001b[1;32m    509\u001b[0m \u001b[38;5;124;03mCoerce to the new dtype.\u001b[39;00m\n\u001b[1;32m    510\u001b[0m \n\u001b[0;32m   (...)\u001b[0m\n\u001b[1;32m    522\u001b[0m \u001b[38;5;124;03mBlock\u001b[39;00m\n\u001b[1;32m    523\u001b[0m \u001b[38;5;124;03m\"\"\"\u001b[39;00m\n\u001b[1;32m    524\u001b[0m values \u001b[38;5;241m=\u001b[39m \u001b[38;5;28mself\u001b[39m\u001b[38;5;241m.\u001b[39mvalues\n\u001b[0;32m--> 526\u001b[0m new_values \u001b[38;5;241m=\u001b[39m \u001b[43mastype_array_safe\u001b[49m\u001b[43m(\u001b[49m\u001b[43mvalues\u001b[49m\u001b[43m,\u001b[49m\u001b[43m \u001b[49m\u001b[43mdtype\u001b[49m\u001b[43m,\u001b[49m\u001b[43m \u001b[49m\u001b[43mcopy\u001b[49m\u001b[38;5;241;43m=\u001b[39;49m\u001b[43mcopy\u001b[49m\u001b[43m,\u001b[49m\u001b[43m \u001b[49m\u001b[43merrors\u001b[49m\u001b[38;5;241;43m=\u001b[39;49m\u001b[43merrors\u001b[49m\u001b[43m)\u001b[49m\n\u001b[1;32m    528\u001b[0m new_values \u001b[38;5;241m=\u001b[39m maybe_coerce_values(new_values)\n\u001b[1;32m    529\u001b[0m newb \u001b[38;5;241m=\u001b[39m \u001b[38;5;28mself\u001b[39m\u001b[38;5;241m.\u001b[39mmake_block(new_values)\n",
      "File \u001b[0;32m~/anaconda3/envs/gates_ntd_ner/lib/python3.10/site-packages/pandas/core/dtypes/astype.py:299\u001b[0m, in \u001b[0;36mastype_array_safe\u001b[0;34m(values, dtype, copy, errors)\u001b[0m\n\u001b[1;32m    296\u001b[0m     \u001b[38;5;28;01mreturn\u001b[39;00m values\u001b[38;5;241m.\u001b[39mcopy()\n\u001b[1;32m    298\u001b[0m \u001b[38;5;28;01mtry\u001b[39;00m:\n\u001b[0;32m--> 299\u001b[0m     new_values \u001b[38;5;241m=\u001b[39m \u001b[43mastype_array\u001b[49m\u001b[43m(\u001b[49m\u001b[43mvalues\u001b[49m\u001b[43m,\u001b[49m\u001b[43m \u001b[49m\u001b[43mdtype\u001b[49m\u001b[43m,\u001b[49m\u001b[43m \u001b[49m\u001b[43mcopy\u001b[49m\u001b[38;5;241;43m=\u001b[39;49m\u001b[43mcopy\u001b[49m\u001b[43m)\u001b[49m\n\u001b[1;32m    300\u001b[0m \u001b[38;5;28;01mexcept\u001b[39;00m (\u001b[38;5;167;01mValueError\u001b[39;00m, \u001b[38;5;167;01mTypeError\u001b[39;00m):\n\u001b[1;32m    301\u001b[0m     \u001b[38;5;66;03m# e.g. astype_nansafe can fail on object-dtype of strings\u001b[39;00m\n\u001b[1;32m    302\u001b[0m     \u001b[38;5;66;03m#  trying to convert to float\u001b[39;00m\n\u001b[1;32m    303\u001b[0m     \u001b[38;5;28;01mif\u001b[39;00m errors \u001b[38;5;241m==\u001b[39m \u001b[38;5;124m\"\u001b[39m\u001b[38;5;124mignore\u001b[39m\u001b[38;5;124m\"\u001b[39m:\n",
      "File \u001b[0;32m~/anaconda3/envs/gates_ntd_ner/lib/python3.10/site-packages/pandas/core/dtypes/astype.py:230\u001b[0m, in \u001b[0;36mastype_array\u001b[0;34m(values, dtype, copy)\u001b[0m\n\u001b[1;32m    227\u001b[0m     values \u001b[38;5;241m=\u001b[39m values\u001b[38;5;241m.\u001b[39mastype(dtype, copy\u001b[38;5;241m=\u001b[39mcopy)\n\u001b[1;32m    229\u001b[0m \u001b[38;5;28;01melse\u001b[39;00m:\n\u001b[0;32m--> 230\u001b[0m     values \u001b[38;5;241m=\u001b[39m \u001b[43mastype_nansafe\u001b[49m\u001b[43m(\u001b[49m\u001b[43mvalues\u001b[49m\u001b[43m,\u001b[49m\u001b[43m \u001b[49m\u001b[43mdtype\u001b[49m\u001b[43m,\u001b[49m\u001b[43m \u001b[49m\u001b[43mcopy\u001b[49m\u001b[38;5;241;43m=\u001b[39;49m\u001b[43mcopy\u001b[49m\u001b[43m)\u001b[49m\n\u001b[1;32m    232\u001b[0m \u001b[38;5;66;03m# in pandas we don't store numpy str dtypes, so convert to object\u001b[39;00m\n\u001b[1;32m    233\u001b[0m \u001b[38;5;28;01mif\u001b[39;00m \u001b[38;5;28misinstance\u001b[39m(dtype, np\u001b[38;5;241m.\u001b[39mdtype) \u001b[38;5;129;01mand\u001b[39;00m \u001b[38;5;28missubclass\u001b[39m(values\u001b[38;5;241m.\u001b[39mdtype\u001b[38;5;241m.\u001b[39mtype, \u001b[38;5;28mstr\u001b[39m):\n",
      "File \u001b[0;32m~/anaconda3/envs/gates_ntd_ner/lib/python3.10/site-packages/pandas/core/dtypes/astype.py:170\u001b[0m, in \u001b[0;36mastype_nansafe\u001b[0;34m(arr, dtype, copy, skipna)\u001b[0m\n\u001b[1;32m    166\u001b[0m     \u001b[38;5;28;01mraise\u001b[39;00m \u001b[38;5;167;01mValueError\u001b[39;00m(msg)\n\u001b[1;32m    168\u001b[0m \u001b[38;5;28;01mif\u001b[39;00m copy \u001b[38;5;129;01mor\u001b[39;00m is_object_dtype(arr\u001b[38;5;241m.\u001b[39mdtype) \u001b[38;5;129;01mor\u001b[39;00m is_object_dtype(dtype):\n\u001b[1;32m    169\u001b[0m     \u001b[38;5;66;03m# Explicit copy, or required since NumPy can't view from / to object.\u001b[39;00m\n\u001b[0;32m--> 170\u001b[0m     \u001b[38;5;28;01mreturn\u001b[39;00m \u001b[43marr\u001b[49m\u001b[38;5;241;43m.\u001b[39;49m\u001b[43mastype\u001b[49m\u001b[43m(\u001b[49m\u001b[43mdtype\u001b[49m\u001b[43m,\u001b[49m\u001b[43m \u001b[49m\u001b[43mcopy\u001b[49m\u001b[38;5;241;43m=\u001b[39;49m\u001b[38;5;28;43;01mTrue\u001b[39;49;00m\u001b[43m)\u001b[49m\n\u001b[1;32m    172\u001b[0m \u001b[38;5;28;01mreturn\u001b[39;00m arr\u001b[38;5;241m.\u001b[39mastype(dtype, copy\u001b[38;5;241m=\u001b[39mcopy)\n",
      "\u001b[0;31mValueError\u001b[0m: cannot convert float NaN to integer"
     ]
    }
   ],
   "source": [
    "%pso"
   ]
  },
  {
   "cell_type": "code",
   "execution_count": 285,
   "id": "21bfd944",
   "metadata": {},
   "outputs": [
    {
     "data": {
      "text/plain": [
       "0      NaN\n",
       "1      NaN\n",
       "2      NaN\n",
       "3        0\n",
       "4      NaN\n",
       "      ... \n",
       "994    NaN\n",
       "995    NaN\n",
       "996    NaN\n",
       "997    NaN\n",
       "998    NaN\n",
       "Name: actual_MLTD_label, Length: 999, dtype: object"
      ]
     },
     "execution_count": 285,
     "metadata": {},
     "output_type": "execute_result"
    }
   ],
   "source": [
    "positives['actual_MLTD_label'].str.replace('F', '0')"
   ]
  },
  {
   "cell_type": "code",
   "execution_count": null,
   "id": "0570ff3e",
   "metadata": {},
   "outputs": [],
   "source": []
  }
 ],
 "metadata": {
  "kernelspec": {
   "display_name": "Python 3 (ipykernel)",
   "language": "python",
   "name": "python3"
  },
  "language_info": {
   "codemirror_mode": {
    "name": "ipython",
    "version": 3
   },
   "file_extension": ".py",
   "mimetype": "text/x-python",
   "name": "python",
   "nbconvert_exporter": "python",
   "pygments_lexer": "ipython3",
   "version": "3.10.9"
  }
 },
 "nbformat": 4,
 "nbformat_minor": 5
}
